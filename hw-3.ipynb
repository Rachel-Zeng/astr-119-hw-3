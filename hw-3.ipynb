{
 "cells": [
  {
   "cell_type": "code",
   "execution_count": null,
   "metadata": {},
   "outputs": [],
   "source": [
    "import numpy as np\n",
    "import matplotlib.pyplot as plt\n",
    "x = np.arange(0,2*np.pi,2*np.pi/1000)\n",
    "y = np.arange(-1,10,1)\n",
    "w = np.cos(2*x)\n",
    "y = 5.5* w + 5.5\n",
    "plt.xlabel('Time in ASTR / EART 119')\n",
    "plt.ylabel('Measure of Awesomeness')\n",
    "plt.plot(x,y)\n",
    "plt.show()"
   ]
  },
  {
   "cell_type": "code",
   "execution_count": null,
   "metadata": {},
   "outputs": [],
   "source": [
    "import numpy as np\n",
    "import matplotlib.pyplot as plt\n",
    "x = np.arange(0,2*np.pi,2*np.pi/1000)\n",
    "y = np.arange(-1,10,1)\n",
    "z = np.exp(x) \n",
    "y = 0.02* z\n",
    "plt.xlabel('Time in ASTR / EART 119')\n",
    "plt.ylabel('Measure of Awesomeness')\n",
    "plt.plot(x,y)\n",
    "plt.show()"
   ]
  },
  {
   "cell_type": "code",
   "execution_count": null,
   "metadata": {},
   "outputs": [],
   "source": [
    "import numpy as np\n",
    "import matplotlib.pyplot as plt\n",
    "x = np.arange(0,2*np.pi,2*np.pi/1000)\n",
    "y = np.arange(-1,10,1)\n",
    "y=0.25*(x**2)+0.1*np.sin(10*x) \n",
    "plt.xlabel('Time in ASTR / EART 119')\n",
    "plt.ylabel('Measure of Awesomeness')\n",
    "plt.plot(x,y)\n",
    "plt.show()"
   ]
  }
 ],
 "metadata": {
  "kernelspec": {
   "display_name": "Python 3",
   "language": "python",
   "name": "python3"
  },
  "language_info": {
   "codemirror_mode": {
    "name": "ipython",
    "version": 3
   },
   "file_extension": ".py",
   "mimetype": "text/x-python",
   "name": "python",
   "nbconvert_exporter": "python",
   "pygments_lexer": "ipython3",
   "version": "3.8.5"
  }
 },
 "nbformat": 4,
 "nbformat_minor": 4
}
